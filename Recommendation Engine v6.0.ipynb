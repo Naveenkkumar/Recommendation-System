{
 "cells": [
  {
   "cell_type": "code",
   "execution_count": 3,
   "id": "c1dc23e5",
   "metadata": {},
   "outputs": [],
   "source": [
    "import numpy as np \n",
    "import pandas as pd\n",
    "import matplotlib.pyplot as plt\n",
    "import re\n",
    "from sklearn.metrics.pairwise import pairwise_distances"
   ]
  },
  {
   "cell_type": "markdown",
   "id": "808996d0",
   "metadata": {},
   "source": [
    "Collected data for training and testing, and then performed some pre-processing steps to convert training data into matrix form"
   ]
  },
  {
   "cell_type": "code",
   "execution_count": 4,
   "id": "2adc2fa7",
   "metadata": {},
   "outputs": [],
   "source": [
    "def get_data():\n",
    "    cols = np.arange(1,25,1)\n",
    "    data_item = pd.read_csv(r'ml-100k\\u.item',\n",
    "                 sep= '|'  , names = cols, encoding = 'latin-1')\n",
    "    data_item_map = data_item.iloc[:,:2]\n",
    "    data_item_map.columns = ['movie_id','name']\n",
    "    year = []\n",
    "    name = []\n",
    "    for movie in data_item_map['name']:\n",
    "        for item in re.finditer('(.*)\\(([0-9]{4,4})\\)', movie):\n",
    "            yea = item.group(2)\n",
    "            nam = item.group(1)\n",
    "            year.append(yea)\n",
    "            name.append(nam)\n",
    "\n",
    "    data_item_map['name'] = pd.Series(name)\n",
    "    data_item_map['year'] = pd.Series(year)\n",
    "    \n",
    "    r_cols = ['user_id', 'movie_id', 'rating', 'unix_timestamp']\n",
    "    data_train = pd.read_csv(r'ml-100k\\ua.base',\n",
    "                      sep = '\\t', names = r_cols, encoding = 'latin-1')\n",
    "    data_test = pd.read_csv(r'ml-100k\\ua.test',\n",
    "                      sep = '\\t', names = r_cols, encoding = 'latin-1')\n",
    "    \n",
    "    return data_item_map, data_train, data_test\n",
    "\n",
    "data_item_map, data_train, data_test = get_data()\n",
    "\n",
    "data_train_matrix = data_train.pivot(index = 'user_id', columns = 'movie_id', values = 'rating')\n",
    "data_train_matrix.fillna(value = 0, inplace = True)"
   ]
  },
  {
   "cell_type": "markdown",
   "id": "35ca42f6",
   "metadata": {},
   "source": [
    "This mf() function uses matrix factorisation technique to obtain the missing ratings of the movies, used gradient descent to \n",
    "minimize the error."
   ]
  },
  {
   "cell_type": "code",
   "execution_count": 5,
   "id": "b2baf4a4",
   "metadata": {},
   "outputs": [
    {
     "name": "stdout",
     "output_type": "stream",
     "text": [
      "length : 90570\n",
      "error : 1.3720416930916772\n",
      "Iteration no. : 0\n",
      "length : 90570\n",
      "error : 1.120003520718238\n",
      "Iteration no. : 1\n",
      "length : 90570\n",
      "error : 1.0541316368273626\n",
      "Iteration no. : 2\n",
      "length : 90570\n",
      "error : 1.019171534950153\n",
      "Iteration no. : 3\n",
      "length : 90570\n",
      "error : 0.9958782469821701\n",
      "Iteration no. : 4\n",
      "length : 90570\n",
      "error : 0.9786807452734541\n",
      "Iteration no. : 5\n",
      "length : 90570\n",
      "error : 0.9652201186120118\n",
      "Iteration no. : 6\n",
      "length : 90570\n",
      "error : 0.9542544294500892\n",
      "Iteration no. : 7\n",
      "length : 90570\n",
      "error : 0.9450485903378487\n",
      "Iteration no. : 8\n",
      "length : 90570\n",
      "error : 0.9371334550555106\n",
      "Iteration no. : 9\n",
      "length : 90570\n",
      "error : 0.9301926880598483\n",
      "Iteration no. : 10\n",
      "length : 90570\n",
      "error : 0.9240036851673086\n",
      "Iteration no. : 11\n",
      "length : 90570\n",
      "error : 0.9184043373766309\n",
      "Iteration no. : 12\n",
      "length : 90570\n",
      "error : 0.9132732310892628\n",
      "Iteration no. : 13\n",
      "length : 90570\n",
      "error : 0.9085172918776768\n",
      "Iteration no. : 14\n",
      "length : 90570\n",
      "error : 0.9040637692128561\n",
      "Iteration no. : 15\n",
      "length : 90570\n",
      "error : 0.8998548647419181\n",
      "Iteration no. : 16\n",
      "length : 90570\n",
      "error : 0.8958440315985506\n",
      "Iteration no. : 17\n",
      "length : 90570\n",
      "error : 0.8919933648811844\n",
      "Iteration no. : 18\n",
      "length : 90570\n",
      "error : 0.8882717251582081\n",
      "Iteration no. : 19\n"
     ]
    }
   ],
   "source": [
    "def mf(R,K,alpha, threshold, iterations, beta=None):\n",
    "    R = np.array(R)\n",
    "    n_users, n_items = R.shape\n",
    "    P = np.random.rand(n_users,K)\n",
    "    Q = np.random.rand(n_items, K)\n",
    "    #Qt = Q.T\n",
    "    \n",
    "    for iteration in range(iterations):\n",
    "        error_acc = np.array([])\n",
    "        for i in range(n_users):\n",
    "            for j in range(n_items):\n",
    "                if R[i,j] > 0:\n",
    "                    actual = R[i,j]\n",
    "                    pred = np.dot(P[i,:],Q.T[:,j])\n",
    "                    error = actual - pred\n",
    "                    #print(error)\n",
    "                    error_acc = np.append(error_acc,(error)**2)\n",
    "                    #print(error_acc)\n",
    "                    #SSE = error**2\n",
    "                    for k in range(K):\n",
    "                        P[i,k] = P[i,k] + alpha*(2*(error)*Q[j,k])\n",
    "                        #print(P[i,k])\n",
    "                        Q[j,k] = Q[j,k] + alpha*(2*(error)*P[i,k])\n",
    "                        #print(Q[j,k])\n",
    "        RMSE = np.sqrt(np.sum(error_acc)/len(error_acc))                \n",
    "        print('length :', len(error_acc))\n",
    "        print('error :', RMSE)\n",
    "        print('Iteration no. :', iteration)\n",
    "        if np.sum(error_acc) <= threshold:\n",
    "            break\n",
    "            \n",
    "    return P, Q\n",
    "\n",
    "P, Q = mf(R = data_train_matrix, K = 20, alpha = 0.001, iterations = 20, threshold = 0.1)\n",
    "            \n",
    "data_train_matrix_pred = np.dot(P,Q.T)                        \n",
    "                       \n",
    "user_similarity = pairwise_distances(data_train_matrix_pred, metric = 'cosine')\n",
    "item_similarity = pairwise_distances(data_train_matrix_pred.T, metric = 'cosine')"
   ]
  },
  {
   "cell_type": "markdown",
   "id": "acad8dcd",
   "metadata": {},
   "source": [
    "It predicts the ratings based on the user-similarity or item-similarity whichever we specify."
   ]
  },
  {
   "cell_type": "code",
   "execution_count": 6,
   "id": "4223b240",
   "metadata": {},
   "outputs": [],
   "source": [
    "def pred(data_matrix, similarity, type = None):\n",
    "    data_matrix = np.array(data_matrix)\n",
    "    if type == 'user':\n",
    "        mean_user_rat = data_matrix.mean(axis = 1)\n",
    "        ratings_diff = data_matrix - mean_user_rat[:,np.newaxis]\n",
    "        pred = mean_user_rat[:,np.newaxis] + similarity.dot(ratings_diff)/np.array([np.abs(similarity).sum(axis = 1)]).T\n",
    "        \n",
    "    elif type == 'item':\n",
    "        pred = data_matrix.dot(similarity)/np.array([np.abs(similarity).sum(axis = 1)])\n",
    "        #pred = similarity.dot(data_matrix)/np.array([np.abs(similarity).sum(axis = 1)])\n",
    "        \n",
    "    return pred\n",
    "\n",
    "pred = pred(data_matrix =data_train_matrix_pred, similarity =user_similarity, type = 'user'  )"
   ]
  },
  {
   "cell_type": "markdown",
   "id": "fdf21579",
   "metadata": {},
   "source": [
    "Testing the predictions made and calculating the RMSE for test data"
   ]
  },
  {
   "cell_type": "code",
   "execution_count": 9,
   "id": "f32be733",
   "metadata": {},
   "outputs": [
    {
     "name": "stdout",
     "output_type": "stream",
     "text": [
      "RMSE for test dataset : 0.9653940422131255\n"
     ]
    }
   ],
   "source": [
    "def pred_test(data_test, pred):\n",
    "    data_test_pred = data_test.copy()\n",
    "    data_test_pred['rating_pred'] = np.nan\n",
    "    for i in range(len(data_test)):\n",
    "        #print(i)\n",
    "        m = data_test_pred['user_id'].loc[i]\n",
    "        n = data_test_pred['movie_id'].loc[i]\n",
    "        data_test_pred.loc[i,'rating_pred'] = pred[m-1,n-1]\n",
    "    \n",
    "    data_test_pred['error_sqr'] = (data_test_pred['rating'] - data_test_pred['rating_pred'])**2\n",
    "    RMSE_test = np.sqrt(data_test_pred['error_sqr'].sum()/len(data_test_pred))\n",
    "    \n",
    "    return RMSE_test\n",
    "\n",
    "RMSE_test = pred_test(data_test = data_test, pred = pred)\n",
    "print('RMSE for test dataset :',RMSE_test)"
   ]
  }
 ],
 "metadata": {
  "kernelspec": {
   "display_name": "Python 3 (ipykernel)",
   "language": "python",
   "name": "python3"
  },
  "language_info": {
   "codemirror_mode": {
    "name": "ipython",
    "version": 3
   },
   "file_extension": ".py",
   "mimetype": "text/x-python",
   "name": "python",
   "nbconvert_exporter": "python",
   "pygments_lexer": "ipython3",
   "version": "3.9.4"
  }
 },
 "nbformat": 4,
 "nbformat_minor": 5
}
